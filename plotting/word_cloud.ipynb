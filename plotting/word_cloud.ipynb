{
 "cells": [
  {
   "cell_type": "code",
   "execution_count": null,
   "metadata": {},
   "outputs": [
    {
     "ename": "",
     "evalue": "",
     "output_type": "error",
     "traceback": [
      "\u001b[1;31mRunning cells with 'media_insights-jCOsSxil-py3.9' requires the ipykernel package.\n",
      "\u001b[1;31mRun the following command to install 'ipykernel' into the Python environment. \n",
      "\u001b[1;31mCommand: '/Users/jessupjong/Library/Caches/pypoetry/virtualenvs/media_insights-jCOsSxil-py3.9/bin/python -m pip install ipykernel -U --force-reinstall'"
     ]
    }
   ],
   "source": [
    "import matplotlib.pyplot as plt\n",
    "import json\n",
    "import pandas as pd\n",
    "import numpy as np\n",
    "from PIL import Image\n",
    "import wordcloud\n",
    "import pdb\n",
    "\n",
    "stopwords = set(wordcloud.STOPWORDS)\n",
    "\n",
    "with open(\"../data/cleaned_comment_data.json\", \"r\") as f:\n",
    "    text = json.load(f)\n",
    "\n",
    "total_text = \" \".join([comment[0] for key in text for comment in text[key]])\n",
    "print(total_text)"
   ]
  },
  {
   "cell_type": "code",
   "execution_count": null,
   "metadata": {},
   "outputs": [],
   "source": [
    "dog_mask = np.array(Image.open(\"dog.png\"))\n",
    "\n",
    "DPI = 1000\n",
    "\n",
    "word_cloud_inst = wordcloud.WordCloud(background_color='white', stopwords=stopwords, mask=dog_mask, width=2000, height=2000)\n",
    "dog_colors = wordcloud.ImageColorGenerator(dog_mask)\n",
    "dog_word_cloud = word_cloud_inst.generate(total_text)\n",
    "\n",
    "plt.figure(figsize=(10, 10), dpi=DPI)\n",
    "plt.imshow(dog_word_cloud.recolor(color_func=dog_colors, random_state=3), interpolation='bilinear')\n",
    "plt.axis('off')\n",
    "plt.savefig('word_cloud.pdf', bbox_inches='tight', dpi=DPI)"
   ]
  },
  {
   "cell_type": "markdown",
   "metadata": {},
   "source": []
  }
 ],
 "metadata": {
  "kernelspec": {
   "display_name": "media_insights-jCOsSxil-py3.9",
   "language": "python",
   "name": "python3"
  },
  "language_info": {
   "codemirror_mode": {
    "name": "ipython",
    "version": 3
   },
   "file_extension": ".py",
   "mimetype": "text/x-python",
   "name": "python",
   "nbconvert_exporter": "python",
   "pygments_lexer": "ipython3",
   "version": "3.9.7"
  },
  "orig_nbformat": 4,
  "vscode": {
   "interpreter": {
    "hash": "2b5f2836b933f83818657cd75275c4b12ff25c93499b21380a6b3bb4baae5251"
   }
  }
 },
 "nbformat": 4,
 "nbformat_minor": 2
}
