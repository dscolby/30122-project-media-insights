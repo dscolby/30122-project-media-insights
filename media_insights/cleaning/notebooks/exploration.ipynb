{
 "cells": [
  {
   "cell_type": "code",
   "execution_count": 36,
   "metadata": {},
   "outputs": [
    {
     "ename": "ModuleNotFoundError",
     "evalue": "No module named 'media_insights'",
     "output_type": "error",
     "traceback": [
      "\u001b[0;31m---------------------------------------------------------------------------\u001b[0m",
      "\u001b[0;31mModuleNotFoundError\u001b[0m                       Traceback (most recent call last)",
      "\u001b[0;32m<ipython-input-36-4e564faa8538>\u001b[0m in \u001b[0;36m<module>\u001b[0;34m\u001b[0m\n\u001b[1;32m      8\u001b[0m \u001b[0;32mfrom\u001b[0m \u001b[0mprophet\u001b[0m \u001b[0;32mimport\u001b[0m \u001b[0mProphet\u001b[0m\u001b[0;34m\u001b[0m\u001b[0;34m\u001b[0m\u001b[0m\n\u001b[1;32m      9\u001b[0m \u001b[0;32mimport\u001b[0m \u001b[0mgensim\u001b[0m\u001b[0;34m.\u001b[0m\u001b[0mdownloader\u001b[0m \u001b[0;32mas\u001b[0m \u001b[0mapi\u001b[0m\u001b[0;34m\u001b[0m\u001b[0;34m\u001b[0m\u001b[0m\n\u001b[0;32m---> 10\u001b[0;31m \u001b[0;32mfrom\u001b[0m \u001b[0mmedia_insights\u001b[0m\u001b[0;34m.\u001b[0m\u001b[0mcleaning\u001b[0m\u001b[0;34m.\u001b[0m\u001b[0mprocess_comments\u001b[0m \u001b[0;32mimport\u001b[0m \u001b[0mpreprocess_comments\u001b[0m\u001b[0;34m\u001b[0m\u001b[0;34m\u001b[0m\u001b[0m\n\u001b[0m\u001b[1;32m     11\u001b[0m \u001b[0;32mfrom\u001b[0m \u001b[0mgensim\u001b[0m\u001b[0;34m.\u001b[0m\u001b[0mmatutils\u001b[0m \u001b[0;32mimport\u001b[0m \u001b[0mcorpus2csc\u001b[0m\u001b[0;34m\u001b[0m\u001b[0;34m\u001b[0m\u001b[0m\n",
      "\u001b[0;31mModuleNotFoundError\u001b[0m: No module named 'media_insights'"
     ]
    }
   ],
   "source": [
    "\"\"\"\n",
    "Authored by Darren Colby and used for testing plotting functions\n",
    "\"\"\"\n",
    "\n",
    "import altair as alt\n",
    "import pandas as pd\n",
    "from prophet import Prophet\n",
    "import gensim.downloader as api\n",
    "from gensim.matutils import corpus2csc"
   ]
  },
  {
   "cell_type": "code",
   "execution_count": 2,
   "metadata": {},
   "outputs": [
    {
     "data": {
      "text/html": [
       "<div>\n",
       "<style scoped>\n",
       "    .dataframe tbody tr th:only-of-type {\n",
       "        vertical-align: middle;\n",
       "    }\n",
       "\n",
       "    .dataframe tbody tr th {\n",
       "        vertical-align: top;\n",
       "    }\n",
       "\n",
       "    .dataframe thead th {\n",
       "        text-align: right;\n",
       "    }\n",
       "</style>\n",
       "<table border=\"1\" class=\"dataframe\">\n",
       "  <thead>\n",
       "    <tr style=\"text-align: right;\">\n",
       "      <th></th>\n",
       "      <th>text</th>\n",
       "      <th>date</th>\n",
       "      <th>sentiment</th>\n",
       "    </tr>\n",
       "  </thead>\n",
       "  <tbody>\n",
       "    <tr>\n",
       "      <th>0</th>\n",
       "      <td>love communitybuilde nature dog dog dog bring ...</td>\n",
       "      <td>2023-02-26 22:00:41+00:00</td>\n",
       "      <td>0.6369</td>\n",
       "    </tr>\n",
       "    <tr>\n",
       "      <th>1</th>\n",
       "      <td>brilliant play date lovely thing</td>\n",
       "      <td>2023-02-26 21:50:23+00:00</td>\n",
       "      <td>0.8750</td>\n",
       "    </tr>\n",
       "    <tr>\n",
       "      <th>2</th>\n",
       "      <td>dog right playdate</td>\n",
       "      <td>2023-02-26 16:34:32+00:00</td>\n",
       "      <td>0.0000</td>\n",
       "    </tr>\n",
       "    <tr>\n",
       "      <th>3</th>\n",
       "      <td>compassion thoughtfulness pet happy world place</td>\n",
       "      <td>2023-02-26 13:30:16+00:00</td>\n",
       "      <td>0.8625</td>\n",
       "    </tr>\n",
       "    <tr>\n",
       "      <th>4</th>\n",
       "      <td>glad relieved lol talk dog sister actually mea...</td>\n",
       "      <td>2023-02-26 12:08:31+00:00</td>\n",
       "      <td>0.8807</td>\n",
       "    </tr>\n",
       "  </tbody>\n",
       "</table>\n",
       "</div>"
      ],
      "text/plain": [
       "                                                text  \\\n",
       "0  love communitybuilde nature dog dog dog bring ...   \n",
       "1                   brilliant play date lovely thing   \n",
       "2                                 dog right playdate   \n",
       "3    compassion thoughtfulness pet happy world place   \n",
       "4  glad relieved lol talk dog sister actually mea...   \n",
       "\n",
       "                       date  sentiment  \n",
       "0 2023-02-26 22:00:41+00:00     0.6369  \n",
       "1 2023-02-26 21:50:23+00:00     0.8750  \n",
       "2 2023-02-26 16:34:32+00:00     0.0000  \n",
       "3 2023-02-26 13:30:16+00:00     0.8625  \n",
       "4 2023-02-26 12:08:31+00:00     0.8807  "
      ]
     },
     "execution_count": 2,
     "metadata": {},
     "output_type": "execute_result"
    }
   ],
   "source": [
    "df = pd.read_json(\"../../data/preprocessed_comments.json\")\n",
    "df.head()"
   ]
  },
  {
   "cell_type": "code",
   "execution_count": 3,
   "metadata": {},
   "outputs": [],
   "source": [
    "def get_forecast(df: pd.DataFrame, lead: int):\n",
    "    ts_df = df[[\"date\", \"x\"]].rename(columns={\"date\": \"ds\", \"x\": \"y\"})\n",
    "    ts_df[\"ds\"] = ts_df.ds.dt.tz_localize(None)\n",
    "\n",
    "    df2 = df.copy(deep=True)\n",
    "    df2[\"forecast\"] = \"Actual\"\n",
    "\n",
    "    model = Prophet()\n",
    "    model.fit(ts_df)\n",
    "    future_df = model.make_future_dataframe(periods=lead)\n",
    "    forecast = model.predict(future_df)[[\"ds\", \"yhat\"]].rename(columns={\"ds\": \"date\", \n",
    "                                                                    \"yhat\": \"x\"})\n",
    "    forecast[\"forecast\"] = \"Predicted\"\n",
    "    return pd.concat([forecast, df2[[\"date\", \"x\", \"forecast\"]]])\n",
    "\n",
    "\n",
    "def plot_ts(df: pd.DataFrame, title: str, y_col: str, y_title: str, caption: bool, \n",
    "            lead: int):\n",
    "    df_to_plot = get_forecast(df, lead)\n",
    "\n",
    "    # Have to convert to datetime and remove timezone for altair\n",
    "    df_to_plot[\"date\"] = pd.to_datetime(df_to_plot.date, utc=True)\n",
    "\n",
    "    # The base plot\n",
    "    ts_plot = alt.Chart(df_to_plot).mark_line().encode(\n",
    "        alt.X(f\"yearmonthdatehours(date):T\", \n",
    "              title=\"\",\n",
    "\n",
    "              # Only displays the first and last ticks and labels\n",
    "              # Found suggestion on Stack Overflow from user jakevdp\n",
    "              # https://stackoverflow.com/questions/59699412/altair-display-all-axis-ticks-but-only-some-tick-labels\n",
    "              axis=alt.Axis(tickCount=df_to_plot.shape[0])),\n",
    "        alt.Y(y_col, \n",
    "              title=y_title),\n",
    "        color=alt.Color(\n",
    "            \"forecast:N\",\n",
    "            legend=alt.Legend(title=\"\")\n",
    "        )\n",
    "    ).properties(\n",
    "        title=title\n",
    "    )\n",
    "\n",
    "\n",
    "    # Only adds caption for sentiment time series\n",
    "    if caption:\n",
    "        # The caption, which is not a property in the Chart class\n",
    "        # Found solution on Stack Overflow by user jakevdp\n",
    "        # https://stackoverflow.com/questions/57244390/how-to-add-a-subtitle-to-an-altair-generated-chart\n",
    "        caption = alt.Chart(\n",
    "            {\"values\": [{\"text\": \n",
    "                        \"Sentiment ranges from -1 for most negative to +1 for most positive\"}]}\n",
    "        ).mark_text(align=\"left\").encode(\n",
    "            text=\"text:N\"\n",
    "        )\n",
    "\n",
    "        final_plot = alt.vconcat(\n",
    "            ts_plot,\n",
    "            caption\n",
    "        )\n",
    "\n",
    "        return final_plot\n",
    "    \n",
    "    return ts_plot\n"
   ]
  },
  {
   "cell_type": "code",
   "execution_count": 4,
   "metadata": {},
   "outputs": [
    {
     "name": "stderr",
     "output_type": "stream",
     "text": [
      "17:00:50 - cmdstanpy - INFO - Chain [1] start processing\n",
      "17:00:50 - cmdstanpy - INFO - Chain [1] done processing\n"
     ]
    },
    {
     "data": {
      "text/html": [
       "\n",
       "<div id=\"altair-viz-a4d8bb9f7f4445d88cda4b61e59d6756\"></div>\n",
       "<script type=\"text/javascript\">\n",
       "  var VEGA_DEBUG = (typeof VEGA_DEBUG == \"undefined\") ? {} : VEGA_DEBUG;\n",
       "  (function(spec, embedOpt){\n",
       "    let outputDiv = document.currentScript.previousElementSibling;\n",
       "    if (outputDiv.id !== \"altair-viz-a4d8bb9f7f4445d88cda4b61e59d6756\") {\n",
       "      outputDiv = document.getElementById(\"altair-viz-a4d8bb9f7f4445d88cda4b61e59d6756\");\n",
       "    }\n",
       "    const paths = {\n",
       "      \"vega\": \"https://cdn.jsdelivr.net/npm//vega@5?noext\",\n",
       "      \"vega-lib\": \"https://cdn.jsdelivr.net/npm//vega-lib?noext\",\n",
       "      \"vega-lite\": \"https://cdn.jsdelivr.net/npm//vega-lite@4.17.0?noext\",\n",
       "      \"vega-embed\": \"https://cdn.jsdelivr.net/npm//vega-embed@6?noext\",\n",
       "    };\n",
       "\n",
       "    function maybeLoadScript(lib, version) {\n",
       "      var key = `${lib.replace(\"-\", \"\")}_version`;\n",
       "      return (VEGA_DEBUG[key] == version) ?\n",
       "        Promise.resolve(paths[lib]) :\n",
       "        new Promise(function(resolve, reject) {\n",
       "          var s = document.createElement('script');\n",
       "          document.getElementsByTagName(\"head\")[0].appendChild(s);\n",
       "          s.async = true;\n",
       "          s.onload = () => {\n",
       "            VEGA_DEBUG[key] = version;\n",
       "            return resolve(paths[lib]);\n",
       "          };\n",
       "          s.onerror = () => reject(`Error loading script: ${paths[lib]}`);\n",
       "          s.src = paths[lib];\n",
       "        });\n",
       "    }\n",
       "\n",
       "    function showError(err) {\n",
       "      outputDiv.innerHTML = `<div class=\"error\" style=\"color:red;\">${err}</div>`;\n",
       "      throw err;\n",
       "    }\n",
       "\n",
       "    function displayChart(vegaEmbed) {\n",
       "      vegaEmbed(outputDiv, spec, embedOpt)\n",
       "        .catch(err => showError(`Javascript Error: ${err.message}<br>This usually means there's a typo in your chart specification. See the javascript console for the full traceback.`));\n",
       "    }\n",
       "\n",
       "    if(typeof define === \"function\" && define.amd) {\n",
       "      requirejs.config({paths});\n",
       "      require([\"vega-embed\"], displayChart, err => showError(`Error loading script: ${err.message}`));\n",
       "    } else {\n",
       "      maybeLoadScript(\"vega\", \"5\")\n",
       "        .then(() => maybeLoadScript(\"vega-lite\", \"4.17.0\"))\n",
       "        .then(() => maybeLoadScript(\"vega-embed\", \"6\"))\n",
       "        .catch(showError)\n",
       "        .then(() => displayChart(vegaEmbed));\n",
       "    }\n",
       "  })({\"config\": {\"view\": {\"continuousWidth\": 400, \"continuousHeight\": 300}}, \"vconcat\": [{\"data\": {\"name\": \"data-d24f91950f9e5ad93368c4318b6e197d\"}, \"mark\": \"line\", \"encoding\": {\"color\": {\"field\": \"forecast\", \"legend\": {\"title\": \"\"}, \"type\": \"nominal\"}, \"x\": {\"axis\": {\"tickCount\": 33}, \"field\": \"date\", \"timeUnit\": \"yearmonthdatehours\", \"title\": \"\", \"type\": \"temporal\"}, \"y\": {\"field\": \"x\", \"title\": \"Sentiment\", \"type\": \"quantitative\"}}, \"title\": \"Changes in Sentiment\"}, {\"data\": {\"name\": \"data-5bd5064d2330174fa6c74aa66fa4f0a8\"}, \"mark\": {\"type\": \"text\", \"align\": \"left\"}, \"encoding\": {\"text\": {\"field\": \"text\", \"type\": \"nominal\"}}}], \"$schema\": \"https://vega.github.io/schema/vega-lite/v4.17.0.json\", \"datasets\": {\"data-d24f91950f9e5ad93368c4318b6e197d\": [{\"date\": \"2023-02-25T06:12:08+00:00\", \"x\": 0.7047133860000001, \"forecast\": \"Predicted\"}, {\"date\": \"2023-02-25T06:21:01+00:00\", \"x\": 0.7043669394134197, \"forecast\": \"Predicted\"}, {\"date\": \"2023-02-25T06:53:39+00:00\", \"x\": 0.7030942519532376, \"forecast\": \"Predicted\"}, {\"date\": \"2023-02-25T09:42:53+00:00\", \"x\": 0.6964942169868239, \"forecast\": \"Predicted\"}, {\"date\": \"2023-02-25T13:16:31+00:00\", \"x\": 0.6881625990781334, \"forecast\": \"Predicted\"}, {\"date\": \"2023-02-25T14:29:42+00:00\", \"x\": 0.6853084771984022, \"forecast\": \"Predicted\"}, {\"date\": \"2023-02-25T15:17:26+00:00\", \"x\": 0.6834468955405305, \"forecast\": \"Predicted\"}, {\"date\": \"2023-02-25T17:48:57+00:00\", \"x\": 0.6775378037651427, \"forecast\": \"Predicted\"}, {\"date\": \"2023-02-26T05:08:34+00:00\", \"x\": 0.6510330149021167, \"forecast\": \"Predicted\"}, {\"date\": \"2023-02-26T11:22:47+00:00\", \"x\": 0.6364387086796791, \"forecast\": \"Predicted\"}, {\"date\": \"2023-02-26T12:08:31+00:00\", \"x\": 0.6346551262510199, \"forecast\": \"Predicted\"}, {\"date\": \"2023-02-26T13:30:16+00:00\", \"x\": 0.6314669076579873, \"forecast\": \"Predicted\"}, {\"date\": \"2023-02-26T16:34:32+00:00\", \"x\": 0.6242805784545483, \"forecast\": \"Predicted\"}, {\"date\": \"2023-02-26T21:50:23+00:00\", \"x\": 0.61196254980636, \"forecast\": \"Predicted\"}, {\"date\": \"2023-02-26T22:00:41+00:00\", \"x\": 0.6115608537636931, \"forecast\": \"Predicted\"}, {\"date\": \"2023-02-27T22:00:41+00:00\", \"x\": 0.5554014070219128, \"forecast\": \"Predicted\"}, {\"date\": \"2023-02-28T22:00:41+00:00\", \"x\": 0.4992419602801325, \"forecast\": \"Predicted\"}, {\"date\": \"2023-03-01T22:00:41+00:00\", \"x\": 0.44308251353835215, \"forecast\": \"Predicted\"}, {\"date\": \"2023-02-26T22:00:41+00:00\", \"x\": 0.6369, \"forecast\": \"Actual\"}, {\"date\": \"2023-02-26T21:50:23+00:00\", \"x\": 0.875, \"forecast\": \"Actual\"}, {\"date\": \"2023-02-26T16:34:32+00:00\", \"x\": 0.0, \"forecast\": \"Actual\"}, {\"date\": \"2023-02-26T13:30:16+00:00\", \"x\": 0.8625, \"forecast\": \"Actual\"}, {\"date\": \"2023-02-26T12:08:31+00:00\", \"x\": 0.8807, \"forecast\": \"Actual\"}, {\"date\": \"2023-02-26T11:22:47+00:00\", \"x\": 0.5859, \"forecast\": \"Actual\"}, {\"date\": \"2023-02-26T05:08:34+00:00\", \"x\": 0.4939, \"forecast\": \"Actual\"}, {\"date\": \"2023-02-25T17:48:57+00:00\", \"x\": 0.7003, \"forecast\": \"Actual\"}, {\"date\": \"2023-02-25T15:17:26+00:00\", \"x\": 0.5574, \"forecast\": \"Actual\"}, {\"date\": \"2023-02-25T14:29:42+00:00\", \"x\": 0.9217000000000001, \"forecast\": \"Actual\"}, {\"date\": \"2023-02-25T13:16:31+00:00\", \"x\": 0.7184, \"forecast\": \"Actual\"}, {\"date\": \"2023-02-25T09:42:53+00:00\", \"x\": 0.5719000000000001, \"forecast\": \"Actual\"}, {\"date\": \"2023-02-25T06:53:39+00:00\", \"x\": 0.4939, \"forecast\": \"Actual\"}, {\"date\": \"2023-02-25T06:21:01+00:00\", \"x\": 0.891, \"forecast\": \"Actual\"}, {\"date\": \"2023-02-25T06:12:08+00:00\", \"x\": 0.7506, \"forecast\": \"Actual\"}], \"data-5bd5064d2330174fa6c74aa66fa4f0a8\": [{\"text\": \"Sentiment ranges from -1 for most negative to +1 for most positive\"}]}}, {\"mode\": \"vega-lite\"});\n",
       "</script>"
      ],
      "text/plain": [
       "alt.VConcatChart(...)"
      ]
     },
     "execution_count": 4,
     "metadata": {},
     "output_type": "execute_result"
    }
   ],
   "source": [
    "def plot_sentiment_ts(df: pd.DataFrame, lead:int):\n",
    "    df_copy = df.copy(deep=True)\n",
    "    df_copy[\"x\"] = df_copy.sentiment\n",
    "\n",
    "    return plot_ts(df_copy, \"Changes in Sentiment\", \"x\", \"Sentiment\", True, lead)\n",
    "\n",
    "plot_sentiment_ts(df, 3)"
   ]
  },
  {
   "cell_type": "code",
   "execution_count": 5,
   "metadata": {},
   "outputs": [
    {
     "data": {
      "text/html": [
       "\n",
       "<div id=\"altair-viz-cde0533aba1241238ac969f76f272941\"></div>\n",
       "<script type=\"text/javascript\">\n",
       "  var VEGA_DEBUG = (typeof VEGA_DEBUG == \"undefined\") ? {} : VEGA_DEBUG;\n",
       "  (function(spec, embedOpt){\n",
       "    let outputDiv = document.currentScript.previousElementSibling;\n",
       "    if (outputDiv.id !== \"altair-viz-cde0533aba1241238ac969f76f272941\") {\n",
       "      outputDiv = document.getElementById(\"altair-viz-cde0533aba1241238ac969f76f272941\");\n",
       "    }\n",
       "    const paths = {\n",
       "      \"vega\": \"https://cdn.jsdelivr.net/npm//vega@5?noext\",\n",
       "      \"vega-lib\": \"https://cdn.jsdelivr.net/npm//vega-lib?noext\",\n",
       "      \"vega-lite\": \"https://cdn.jsdelivr.net/npm//vega-lite@4.17.0?noext\",\n",
       "      \"vega-embed\": \"https://cdn.jsdelivr.net/npm//vega-embed@6?noext\",\n",
       "    };\n",
       "\n",
       "    function maybeLoadScript(lib, version) {\n",
       "      var key = `${lib.replace(\"-\", \"\")}_version`;\n",
       "      return (VEGA_DEBUG[key] == version) ?\n",
       "        Promise.resolve(paths[lib]) :\n",
       "        new Promise(function(resolve, reject) {\n",
       "          var s = document.createElement('script');\n",
       "          document.getElementsByTagName(\"head\")[0].appendChild(s);\n",
       "          s.async = true;\n",
       "          s.onload = () => {\n",
       "            VEGA_DEBUG[key] = version;\n",
       "            return resolve(paths[lib]);\n",
       "          };\n",
       "          s.onerror = () => reject(`Error loading script: ${paths[lib]}`);\n",
       "          s.src = paths[lib];\n",
       "        });\n",
       "    }\n",
       "\n",
       "    function showError(err) {\n",
       "      outputDiv.innerHTML = `<div class=\"error\" style=\"color:red;\">${err}</div>`;\n",
       "      throw err;\n",
       "    }\n",
       "\n",
       "    function displayChart(vegaEmbed) {\n",
       "      vegaEmbed(outputDiv, spec, embedOpt)\n",
       "        .catch(err => showError(`Javascript Error: ${err.message}<br>This usually means there's a typo in your chart specification. See the javascript console for the full traceback.`));\n",
       "    }\n",
       "\n",
       "    if(typeof define === \"function\" && define.amd) {\n",
       "      requirejs.config({paths});\n",
       "      require([\"vega-embed\"], displayChart, err => showError(`Error loading script: ${err.message}`));\n",
       "    } else {\n",
       "      maybeLoadScript(\"vega\", \"5\")\n",
       "        .then(() => maybeLoadScript(\"vega-lite\", \"4.17.0\"))\n",
       "        .then(() => maybeLoadScript(\"vega-embed\", \"6\"))\n",
       "        .catch(showError)\n",
       "        .then(() => displayChart(vegaEmbed));\n",
       "    }\n",
       "  })({\"config\": {\"view\": {\"continuousWidth\": 400, \"continuousHeight\": 300}}, \"data\": {\"name\": \"data-afe051d582c3a1ccf5e3503adb2865a4\"}, \"mark\": \"line\", \"encoding\": {\"color\": {\"field\": \"forecast\", \"legend\": {\"title\": \"\"}, \"type\": \"nominal\"}, \"x\": {\"axis\": {\"tickCount\": 33}, \"field\": \"date\", \"timeUnit\": \"yearmonthdatehours\", \"title\": \"\", \"type\": \"temporal\"}, \"y\": {\"field\": \"x\", \"title\": \"Comments\", \"type\": \"quantitative\"}}, \"title\": \"Comments accross time\", \"$schema\": \"https://vega.github.io/schema/vega-lite/v4.17.0.json\", \"datasets\": {\"data-afe051d582c3a1ccf5e3503adb2865a4\": [{\"date\": \"2023-02-25T06:12:08+00:00\", \"x\": 1.0, \"forecast\": \"Predicted\"}, {\"date\": \"2023-02-25T06:21:01+00:00\", \"x\": 1.0, \"forecast\": \"Predicted\"}, {\"date\": \"2023-02-25T06:53:39+00:00\", \"x\": 1.0, \"forecast\": \"Predicted\"}, {\"date\": \"2023-02-25T09:42:53+00:00\", \"x\": 1.0, \"forecast\": \"Predicted\"}, {\"date\": \"2023-02-25T13:16:31+00:00\", \"x\": 1.0, \"forecast\": \"Predicted\"}, {\"date\": \"2023-02-25T14:29:42+00:00\", \"x\": 1.0, \"forecast\": \"Predicted\"}, {\"date\": \"2023-02-25T15:17:26+00:00\", \"x\": 1.0, \"forecast\": \"Predicted\"}, {\"date\": \"2023-02-25T17:48:57+00:00\", \"x\": 1.0, \"forecast\": \"Predicted\"}, {\"date\": \"2023-02-26T05:08:34+00:00\", \"x\": 1.0, \"forecast\": \"Predicted\"}, {\"date\": \"2023-02-26T11:22:47+00:00\", \"x\": 1.0, \"forecast\": \"Predicted\"}, {\"date\": \"2023-02-26T12:08:31+00:00\", \"x\": 1.0, \"forecast\": \"Predicted\"}, {\"date\": \"2023-02-26T13:30:16+00:00\", \"x\": 1.0, \"forecast\": \"Predicted\"}, {\"date\": \"2023-02-26T16:34:32+00:00\", \"x\": 1.0, \"forecast\": \"Predicted\"}, {\"date\": \"2023-02-26T21:50:23+00:00\", \"x\": 1.0, \"forecast\": \"Predicted\"}, {\"date\": \"2023-02-26T22:00:41+00:00\", \"x\": 1.0, \"forecast\": \"Predicted\"}, {\"date\": \"2023-02-27T22:00:41+00:00\", \"x\": 1.0, \"forecast\": \"Predicted\"}, {\"date\": \"2023-02-28T22:00:41+00:00\", \"x\": 1.0, \"forecast\": \"Predicted\"}, {\"date\": \"2023-03-01T22:00:41+00:00\", \"x\": 1.0, \"forecast\": \"Predicted\"}, {\"date\": \"2023-02-26T22:00:41+00:00\", \"x\": 1.0, \"forecast\": \"Actual\"}, {\"date\": \"2023-02-26T21:50:23+00:00\", \"x\": 1.0, \"forecast\": \"Actual\"}, {\"date\": \"2023-02-26T16:34:32+00:00\", \"x\": 1.0, \"forecast\": \"Actual\"}, {\"date\": \"2023-02-26T13:30:16+00:00\", \"x\": 1.0, \"forecast\": \"Actual\"}, {\"date\": \"2023-02-26T12:08:31+00:00\", \"x\": 1.0, \"forecast\": \"Actual\"}, {\"date\": \"2023-02-26T11:22:47+00:00\", \"x\": 1.0, \"forecast\": \"Actual\"}, {\"date\": \"2023-02-26T05:08:34+00:00\", \"x\": 1.0, \"forecast\": \"Actual\"}, {\"date\": \"2023-02-25T17:48:57+00:00\", \"x\": 1.0, \"forecast\": \"Actual\"}, {\"date\": \"2023-02-25T15:17:26+00:00\", \"x\": 1.0, \"forecast\": \"Actual\"}, {\"date\": \"2023-02-25T14:29:42+00:00\", \"x\": 1.0, \"forecast\": \"Actual\"}, {\"date\": \"2023-02-25T13:16:31+00:00\", \"x\": 1.0, \"forecast\": \"Actual\"}, {\"date\": \"2023-02-25T09:42:53+00:00\", \"x\": 1.0, \"forecast\": \"Actual\"}, {\"date\": \"2023-02-25T06:53:39+00:00\", \"x\": 1.0, \"forecast\": \"Actual\"}, {\"date\": \"2023-02-25T06:21:01+00:00\", \"x\": 1.0, \"forecast\": \"Actual\"}, {\"date\": \"2023-02-25T06:12:08+00:00\", \"x\": 1.0, \"forecast\": \"Actual\"}]}}, {\"mode\": \"vega-lite\"});\n",
       "</script>"
      ],
      "text/plain": [
       "alt.Chart(...)"
      ]
     },
     "execution_count": 5,
     "metadata": {},
     "output_type": "execute_result"
    }
   ],
   "source": [
    "def plot_comment_ts(df: pd.DataFrame, lead: int):\n",
    "    new_df = df.copy(deep=True)\n",
    "    new_df = new_df.date.value_counts().rename_axis(\"date\").reset_index(name=\"x\")\n",
    "\n",
    "    return plot_ts(new_df, \"Comments accross time\", \"x\", \"Comments\", False, lead)\n",
    "\n",
    "plot_comment_ts(df, 3)"
   ]
  },
  {
   "cell_type": "code",
   "execution_count": 10,
   "metadata": {},
   "outputs": [],
   "source": [
    "glove = api.load(\"glove-wiki-gigaword-50\")"
   ]
  },
  {
   "cell_type": "code",
   "execution_count": 42,
   "metadata": {},
   "outputs": [
    {
     "data": {
      "text/plain": [
       "0.79287374"
      ]
     },
     "execution_count": 42,
     "metadata": {},
     "output_type": "execute_result"
    }
   ],
   "source": [
    "\"\".join([string for string in df.text])\n",
    "glove.n_similarity(\"this\", \"Darren\")"
   ]
  }
 ],
 "metadata": {
  "kernelspec": {
   "display_name": "Python 3",
   "language": "python",
   "name": "python3"
  },
  "language_info": {
   "codemirror_mode": {
    "name": "ipython",
    "version": 3
   },
   "file_extension": ".py",
   "mimetype": "text/x-python",
   "name": "python",
   "nbconvert_exporter": "python",
   "pygments_lexer": "ipython3",
   "version": "3.8.10"
  },
  "orig_nbformat": 4,
  "vscode": {
   "interpreter": {
    "hash": "916dbcbb3f70747c44a77c7bcd40155683ae19c65e1c03b4aa3499c5328201f1"
   }
  }
 },
 "nbformat": 4,
 "nbformat_minor": 2
}
